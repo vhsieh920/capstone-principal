{
 "cells": [
  {
   "cell_type": "code",
   "execution_count": 1,
   "metadata": {},
   "outputs": [],
   "source": [
    "from datetime import datetime, timedelta, date\n",
    "import csv\n",
    "import sys\n",
    "import pandas as pd\n",
    "import numpy as np\n",
    "import matplotlib.pyplot as plt\n",
    "plt.style.use('ggplot')\n",
    "%matplotlib inline\n",
    "import seaborn as sns"
   ]
  },
  {
   "cell_type": "code",
   "execution_count": 5,
   "metadata": {},
   "outputs": [],
   "source": [
    "df = pd.read_csv('Full_Monthly.csv',index_col=0)"
   ]
  },
  {
   "cell_type": "code",
   "execution_count": 6,
   "metadata": {},
   "outputs": [
    {
     "data": {
      "text/html": [
       "<div>\n",
       "<style scoped>\n",
       "    .dataframe tbody tr th:only-of-type {\n",
       "        vertical-align: middle;\n",
       "    }\n",
       "\n",
       "    .dataframe tbody tr th {\n",
       "        vertical-align: top;\n",
       "    }\n",
       "\n",
       "    .dataframe thead th {\n",
       "        text-align: right;\n",
       "    }\n",
       "</style>\n",
       "<table border=\"1\" class=\"dataframe\">\n",
       "  <thead>\n",
       "    <tr style=\"text-align: right;\">\n",
       "      <th></th>\n",
       "      <th>Date</th>\n",
       "      <th>Ticker</th>\n",
       "      <th>Sector</th>\n",
       "      <th>Industry</th>\n",
       "      <th>Cash From Operations</th>\n",
       "      <th>Current Market Cap</th>\n",
       "      <th>EBITDA Margin</th>\n",
       "      <th>Free Cash Flow</th>\n",
       "      <th>Gross Margin</th>\n",
       "      <th>Interest Expense</th>\n",
       "      <th>...</th>\n",
       "      <th>Yield.10.Yr.Vol.63</th>\n",
       "      <th>Yield.20.Yr.Vol.21</th>\n",
       "      <th>Yield.20.Yr.Vol.63</th>\n",
       "      <th>Yield.30.Yr.Vol.21</th>\n",
       "      <th>Yield.30.Yr.Vol.63</th>\n",
       "      <th>Total</th>\n",
       "      <th>OAS</th>\n",
       "      <th>Shiller.PE.Ratio</th>\n",
       "      <th>VIX.Value</th>\n",
       "      <th>VIX.VXV</th>\n",
       "    </tr>\n",
       "  </thead>\n",
       "  <tbody>\n",
       "    <tr>\n",
       "      <th>1</th>\n",
       "      <td>1998-07-01</td>\n",
       "      <td>BAX</td>\n",
       "      <td>Consumer, Non-cyclical</td>\n",
       "      <td>Healthcare-Products</td>\n",
       "      <td>146.000</td>\n",
       "      <td>15118.3532</td>\n",
       "      <td>25.5814</td>\n",
       "      <td>17.000</td>\n",
       "      <td>46.0888</td>\n",
       "      <td>39.000</td>\n",
       "      <td>...</td>\n",
       "      <td>0.100107</td>\n",
       "      <td>0.067771</td>\n",
       "      <td>0.117695</td>\n",
       "      <td>0.06957</td>\n",
       "      <td>0.126968</td>\n",
       "      <td>76.83215</td>\n",
       "      <td>72.402903</td>\n",
       "      <td>38.26</td>\n",
       "      <td>24.799999</td>\n",
       "      <td>NaN</td>\n",
       "    </tr>\n",
       "    <tr>\n",
       "      <th>2</th>\n",
       "      <td>1998-07-01</td>\n",
       "      <td>VOD</td>\n",
       "      <td>Communications</td>\n",
       "      <td>Telecommunications</td>\n",
       "      <td>NaN</td>\n",
       "      <td>256921.1418</td>\n",
       "      <td>NaN</td>\n",
       "      <td>NaN</td>\n",
       "      <td>NaN</td>\n",
       "      <td>NaN</td>\n",
       "      <td>...</td>\n",
       "      <td>0.100107</td>\n",
       "      <td>0.067771</td>\n",
       "      <td>0.117695</td>\n",
       "      <td>0.06957</td>\n",
       "      <td>0.126968</td>\n",
       "      <td>76.83215</td>\n",
       "      <td>78.340585</td>\n",
       "      <td>38.26</td>\n",
       "      <td>24.799999</td>\n",
       "      <td>NaN</td>\n",
       "    </tr>\n",
       "    <tr>\n",
       "      <th>3</th>\n",
       "      <td>1998-07-01</td>\n",
       "      <td>PXD</td>\n",
       "      <td>Energy</td>\n",
       "      <td>Oil&amp;Gas</td>\n",
       "      <td>91.369</td>\n",
       "      <td>2398.8883</td>\n",
       "      <td>45.2357</td>\n",
       "      <td>-56.929</td>\n",
       "      <td>23.5375</td>\n",
       "      <td>41.017</td>\n",
       "      <td>...</td>\n",
       "      <td>0.100107</td>\n",
       "      <td>0.067771</td>\n",
       "      <td>0.117695</td>\n",
       "      <td>0.06957</td>\n",
       "      <td>0.126968</td>\n",
       "      <td>76.83215</td>\n",
       "      <td>147.188061</td>\n",
       "      <td>38.26</td>\n",
       "      <td>24.799999</td>\n",
       "      <td>NaN</td>\n",
       "    </tr>\n",
       "    <tr>\n",
       "      <th>4</th>\n",
       "      <td>1998-07-01</td>\n",
       "      <td>KMI</td>\n",
       "      <td>Energy</td>\n",
       "      <td>Pipelines</td>\n",
       "      <td>453.000</td>\n",
       "      <td>36519.0472</td>\n",
       "      <td>27.3650</td>\n",
       "      <td>-10.000</td>\n",
       "      <td>34.1947</td>\n",
       "      <td>297.000</td>\n",
       "      <td>...</td>\n",
       "      <td>0.100107</td>\n",
       "      <td>0.067771</td>\n",
       "      <td>0.117695</td>\n",
       "      <td>0.06957</td>\n",
       "      <td>0.126968</td>\n",
       "      <td>76.83215</td>\n",
       "      <td>113.533557</td>\n",
       "      <td>38.26</td>\n",
       "      <td>24.799999</td>\n",
       "      <td>NaN</td>\n",
       "    </tr>\n",
       "    <tr>\n",
       "      <th>5</th>\n",
       "      <td>1998-07-01</td>\n",
       "      <td>AZN</td>\n",
       "      <td>Consumer, Non-cyclical</td>\n",
       "      <td>Pharmaceuticals</td>\n",
       "      <td>311.000</td>\n",
       "      <td>82119.0000</td>\n",
       "      <td>28.0482</td>\n",
       "      <td>-203.000</td>\n",
       "      <td>69.4947</td>\n",
       "      <td>33.000</td>\n",
       "      <td>...</td>\n",
       "      <td>0.100107</td>\n",
       "      <td>0.067771</td>\n",
       "      <td>0.117695</td>\n",
       "      <td>0.06957</td>\n",
       "      <td>0.126968</td>\n",
       "      <td>76.83215</td>\n",
       "      <td>60.176544</td>\n",
       "      <td>38.26</td>\n",
       "      <td>24.799999</td>\n",
       "      <td>NaN</td>\n",
       "    </tr>\n",
       "  </tbody>\n",
       "</table>\n",
       "<p>5 rows × 81 columns</p>\n",
       "</div>"
      ],
      "text/plain": [
       "         Date Ticker                  Sector             Industry  \\\n",
       "1  1998-07-01    BAX  Consumer, Non-cyclical  Healthcare-Products   \n",
       "2  1998-07-01    VOD          Communications   Telecommunications   \n",
       "3  1998-07-01    PXD                  Energy              Oil&Gas   \n",
       "4  1998-07-01    KMI                  Energy            Pipelines   \n",
       "5  1998-07-01    AZN  Consumer, Non-cyclical      Pharmaceuticals   \n",
       "\n",
       "   Cash From Operations  Current Market Cap  EBITDA Margin  Free Cash Flow  \\\n",
       "1               146.000          15118.3532        25.5814          17.000   \n",
       "2                   NaN         256921.1418            NaN             NaN   \n",
       "3                91.369           2398.8883        45.2357         -56.929   \n",
       "4               453.000          36519.0472        27.3650         -10.000   \n",
       "5               311.000          82119.0000        28.0482        -203.000   \n",
       "\n",
       "   Gross Margin  Interest Expense   ...     Yield.10.Yr.Vol.63  \\\n",
       "1       46.0888            39.000   ...               0.100107   \n",
       "2           NaN               NaN   ...               0.100107   \n",
       "3       23.5375            41.017   ...               0.100107   \n",
       "4       34.1947           297.000   ...               0.100107   \n",
       "5       69.4947            33.000   ...               0.100107   \n",
       "\n",
       "   Yield.20.Yr.Vol.21  Yield.20.Yr.Vol.63  Yield.30.Yr.Vol.21  \\\n",
       "1            0.067771            0.117695             0.06957   \n",
       "2            0.067771            0.117695             0.06957   \n",
       "3            0.067771            0.117695             0.06957   \n",
       "4            0.067771            0.117695             0.06957   \n",
       "5            0.067771            0.117695             0.06957   \n",
       "\n",
       "   Yield.30.Yr.Vol.63     Total         OAS  Shiller.PE.Ratio  VIX.Value  \\\n",
       "1            0.126968  76.83215   72.402903             38.26  24.799999   \n",
       "2            0.126968  76.83215   78.340585             38.26  24.799999   \n",
       "3            0.126968  76.83215  147.188061             38.26  24.799999   \n",
       "4            0.126968  76.83215  113.533557             38.26  24.799999   \n",
       "5            0.126968  76.83215   60.176544             38.26  24.799999   \n",
       "\n",
       "   VIX.VXV  \n",
       "1      NaN  \n",
       "2      NaN  \n",
       "3      NaN  \n",
       "4      NaN  \n",
       "5      NaN  \n",
       "\n",
       "[5 rows x 81 columns]"
      ]
     },
     "execution_count": 6,
     "metadata": {},
     "output_type": "execute_result"
    }
   ],
   "source": [
    "df.head()"
   ]
  },
  {
   "cell_type": "code",
   "execution_count": 16,
   "metadata": {},
   "outputs": [
    {
     "data": {
      "text/plain": [
       "Date                    datetime64[ns]\n",
       "Ticker                          object\n",
       "Sector                          object\n",
       "Industry                        object\n",
       "Cash From Operations           float64\n",
       "dtype: object"
      ]
     },
     "execution_count": 16,
     "metadata": {},
     "output_type": "execute_result"
    }
   ],
   "source": [
    "df.dtypes.head()"
   ]
  },
  {
   "cell_type": "markdown",
   "metadata": {},
   "source": [
    "### 35,064 observations"
   ]
  },
  {
   "cell_type": "code",
   "execution_count": 5,
   "metadata": {},
   "outputs": [
    {
     "data": {
      "text/plain": [
       "35064"
      ]
     },
     "execution_count": 5,
     "metadata": {},
     "output_type": "execute_result"
    }
   ],
   "source": [
    "len(df)"
   ]
  },
  {
   "cell_type": "code",
   "execution_count": 8,
   "metadata": {},
   "outputs": [
    {
     "data": {
      "text/html": [
       "<div>\n",
       "<style scoped>\n",
       "    .dataframe tbody tr th:only-of-type {\n",
       "        vertical-align: middle;\n",
       "    }\n",
       "\n",
       "    .dataframe tbody tr th {\n",
       "        vertical-align: top;\n",
       "    }\n",
       "\n",
       "    .dataframe thead th {\n",
       "        text-align: right;\n",
       "    }\n",
       "</style>\n",
       "<table border=\"1\" class=\"dataframe\">\n",
       "  <thead>\n",
       "    <tr style=\"text-align: right;\">\n",
       "      <th></th>\n",
       "      <th>Cash From Operations</th>\n",
       "      <th>Current Market Cap</th>\n",
       "      <th>EBITDA Margin</th>\n",
       "      <th>Free Cash Flow</th>\n",
       "      <th>Gross Margin</th>\n",
       "      <th>Interest Expense</th>\n",
       "      <th>Long Term Debt</th>\n",
       "      <th>Net Debt</th>\n",
       "      <th>Net Income/Net Profit (Losses)</th>\n",
       "      <th>Revenue</th>\n",
       "      <th>...</th>\n",
       "      <th>Yield.10.Yr.Vol.63</th>\n",
       "      <th>Yield.20.Yr.Vol.21</th>\n",
       "      <th>Yield.20.Yr.Vol.63</th>\n",
       "      <th>Yield.30.Yr.Vol.21</th>\n",
       "      <th>Yield.30.Yr.Vol.63</th>\n",
       "      <th>Total</th>\n",
       "      <th>OAS</th>\n",
       "      <th>Shiller.PE.Ratio</th>\n",
       "      <th>VIX.Value</th>\n",
       "      <th>VIX.VXV</th>\n",
       "    </tr>\n",
       "  </thead>\n",
       "  <tbody>\n",
       "    <tr>\n",
       "      <th>count</th>\n",
       "      <td>34416.000000</td>\n",
       "      <td>34647.000000</td>\n",
       "      <td>34290.000000</td>\n",
       "      <td>34290.000000</td>\n",
       "      <td>32697.000000</td>\n",
       "      <td>34389.000000</td>\n",
       "      <td>3.465000e+04</td>\n",
       "      <td>34650.000000</td>\n",
       "      <td>34416.000000</td>\n",
       "      <td>3.465000e+04</td>\n",
       "      <td>...</td>\n",
       "      <td>35064.000000</td>\n",
       "      <td>35064.000000</td>\n",
       "      <td>35064.000000</td>\n",
       "      <td>29020.000000</td>\n",
       "      <td>29282.000000</td>\n",
       "      <td>35064.000000</td>\n",
       "      <td>34999.000000</td>\n",
       "      <td>35064.000000</td>\n",
       "      <td>35064.000000</td>\n",
       "      <td>29816.000000</td>\n",
       "    </tr>\n",
       "    <tr>\n",
       "      <th>mean</th>\n",
       "      <td>1280.759140</td>\n",
       "      <td>50383.998924</td>\n",
       "      <td>22.652417</td>\n",
       "      <td>652.872743</td>\n",
       "      <td>41.294735</td>\n",
       "      <td>124.105400</td>\n",
       "      <td>1.109283e+04</td>\n",
       "      <td>6095.889031</td>\n",
       "      <td>669.087025</td>\n",
       "      <td>9.499222e+03</td>\n",
       "      <td>...</td>\n",
       "      <td>0.165653</td>\n",
       "      <td>0.091606</td>\n",
       "      <td>0.154919</td>\n",
       "      <td>0.087695</td>\n",
       "      <td>0.148144</td>\n",
       "      <td>153.386671</td>\n",
       "      <td>138.259805</td>\n",
       "      <td>26.363448</td>\n",
       "      <td>19.832317</td>\n",
       "      <td>0.937338</td>\n",
       "    </tr>\n",
       "    <tr>\n",
       "      <th>std</th>\n",
       "      <td>6088.493883</td>\n",
       "      <td>66479.485752</td>\n",
       "      <td>15.929808</td>\n",
       "      <td>4815.461803</td>\n",
       "      <td>22.631193</td>\n",
       "      <td>315.221063</td>\n",
       "      <td>3.131732e+04</td>\n",
       "      <td>24090.633511</td>\n",
       "      <td>2022.226901</td>\n",
       "      <td>4.921038e+04</td>\n",
       "      <td>...</td>\n",
       "      <td>0.088155</td>\n",
       "      <td>0.055520</td>\n",
       "      <td>0.080396</td>\n",
       "      <td>0.061409</td>\n",
       "      <td>0.085300</td>\n",
       "      <td>65.231383</td>\n",
       "      <td>103.342547</td>\n",
       "      <td>6.091675</td>\n",
       "      <td>8.051695</td>\n",
       "      <td>0.196559</td>\n",
       "    </tr>\n",
       "    <tr>\n",
       "      <th>min</th>\n",
       "      <td>-220042.935500</td>\n",
       "      <td>398.809866</td>\n",
       "      <td>-285.937768</td>\n",
       "      <td>-300994.398610</td>\n",
       "      <td>-369.349226</td>\n",
       "      <td>-62.463218</td>\n",
       "      <td>-3.877647e+02</td>\n",
       "      <td>-200675.000000</td>\n",
       "      <td>-93846.225698</td>\n",
       "      <td>-6.145949e+01</td>\n",
       "      <td>...</td>\n",
       "      <td>0.048840</td>\n",
       "      <td>0.030150</td>\n",
       "      <td>0.061374</td>\n",
       "      <td>0.027001</td>\n",
       "      <td>0.034493</td>\n",
       "      <td>76.832150</td>\n",
       "      <td>-1503.125000</td>\n",
       "      <td>13.320000</td>\n",
       "      <td>9.510000</td>\n",
       "      <td>0.599930</td>\n",
       "    </tr>\n",
       "    <tr>\n",
       "      <th>25%</th>\n",
       "      <td>263.288751</td>\n",
       "      <td>13244.955420</td>\n",
       "      <td>12.957125</td>\n",
       "      <td>51.967321</td>\n",
       "      <td>24.965483</td>\n",
       "      <td>29.173929</td>\n",
       "      <td>2.289970e+03</td>\n",
       "      <td>839.190577</td>\n",
       "      <td>139.286215</td>\n",
       "      <td>2.187848e+03</td>\n",
       "      <td>...</td>\n",
       "      <td>0.103352</td>\n",
       "      <td>0.063520</td>\n",
       "      <td>0.103344</td>\n",
       "      <td>0.059825</td>\n",
       "      <td>0.095271</td>\n",
       "      <td>112.972668</td>\n",
       "      <td>84.694456</td>\n",
       "      <td>22.600000</td>\n",
       "      <td>13.840000</td>\n",
       "      <td>0.823625</td>\n",
       "    </tr>\n",
       "    <tr>\n",
       "      <th>50%</th>\n",
       "      <td>602.837257</td>\n",
       "      <td>25492.565064</td>\n",
       "      <td>20.772672</td>\n",
       "      <td>282.712999</td>\n",
       "      <td>39.885892</td>\n",
       "      <td>72.580527</td>\n",
       "      <td>5.577126e+03</td>\n",
       "      <td>3522.240696</td>\n",
       "      <td>329.052014</td>\n",
       "      <td>3.971007e+03</td>\n",
       "      <td>...</td>\n",
       "      <td>0.137183</td>\n",
       "      <td>0.080838</td>\n",
       "      <td>0.134954</td>\n",
       "      <td>0.075141</td>\n",
       "      <td>0.125602</td>\n",
       "      <td>136.313962</td>\n",
       "      <td>114.509722</td>\n",
       "      <td>25.690000</td>\n",
       "      <td>17.750000</td>\n",
       "      <td>0.900752</td>\n",
       "    </tr>\n",
       "    <tr>\n",
       "      <th>75%</th>\n",
       "      <td>1286.654551</td>\n",
       "      <td>59057.008908</td>\n",
       "      <td>31.180740</td>\n",
       "      <td>788.148975</td>\n",
       "      <td>58.133310</td>\n",
       "      <td>146.952248</td>\n",
       "      <td>1.136533e+04</td>\n",
       "      <td>9001.706545</td>\n",
       "      <td>765.715734</td>\n",
       "      <td>8.725784e+03</td>\n",
       "      <td>...</td>\n",
       "      <td>0.203721</td>\n",
       "      <td>0.101644</td>\n",
       "      <td>0.180300</td>\n",
       "      <td>0.096380</td>\n",
       "      <td>0.169973</td>\n",
       "      <td>173.348797</td>\n",
       "      <td>159.228902</td>\n",
       "      <td>27.550000</td>\n",
       "      <td>24.059999</td>\n",
       "      <td>1.017011</td>\n",
       "    </tr>\n",
       "    <tr>\n",
       "      <th>max</th>\n",
       "      <td>450738.000000</td>\n",
       "      <td>796064.939400</td>\n",
       "      <td>165.589996</td>\n",
       "      <td>377795.000000</td>\n",
       "      <td>159.437267</td>\n",
       "      <td>12089.706719</td>\n",
       "      <td>1.052778e+06</td>\n",
       "      <td>879685.091457</td>\n",
       "      <td>73979.088458</td>\n",
       "      <td>2.279306e+06</td>\n",
       "      <td>...</td>\n",
       "      <td>0.671005</td>\n",
       "      <td>0.585437</td>\n",
       "      <td>0.627464</td>\n",
       "      <td>0.644613</td>\n",
       "      <td>0.636794</td>\n",
       "      <td>546.125830</td>\n",
       "      <td>2459.297562</td>\n",
       "      <td>44.190000</td>\n",
       "      <td>59.889999</td>\n",
       "      <td>1.915768</td>\n",
       "    </tr>\n",
       "  </tbody>\n",
       "</table>\n",
       "<p>8 rows × 77 columns</p>\n",
       "</div>"
      ],
      "text/plain": [
       "       Cash From Operations  Current Market Cap  EBITDA Margin  \\\n",
       "count          34416.000000        34647.000000   34290.000000   \n",
       "mean            1280.759140        50383.998924      22.652417   \n",
       "std             6088.493883        66479.485752      15.929808   \n",
       "min          -220042.935500          398.809866    -285.937768   \n",
       "25%              263.288751        13244.955420      12.957125   \n",
       "50%              602.837257        25492.565064      20.772672   \n",
       "75%             1286.654551        59057.008908      31.180740   \n",
       "max           450738.000000       796064.939400     165.589996   \n",
       "\n",
       "       Free Cash Flow  Gross Margin  Interest Expense  Long Term Debt  \\\n",
       "count    34290.000000  32697.000000      34389.000000    3.465000e+04   \n",
       "mean       652.872743     41.294735        124.105400    1.109283e+04   \n",
       "std       4815.461803     22.631193        315.221063    3.131732e+04   \n",
       "min    -300994.398610   -369.349226        -62.463218   -3.877647e+02   \n",
       "25%         51.967321     24.965483         29.173929    2.289970e+03   \n",
       "50%        282.712999     39.885892         72.580527    5.577126e+03   \n",
       "75%        788.148975     58.133310        146.952248    1.136533e+04   \n",
       "max     377795.000000    159.437267      12089.706719    1.052778e+06   \n",
       "\n",
       "            Net Debt  Net Income/Net Profit (Losses)       Revenue  \\\n",
       "count   34650.000000                    34416.000000  3.465000e+04   \n",
       "mean     6095.889031                      669.087025  9.499222e+03   \n",
       "std     24090.633511                     2022.226901  4.921038e+04   \n",
       "min   -200675.000000                   -93846.225698 -6.145949e+01   \n",
       "25%       839.190577                      139.286215  2.187848e+03   \n",
       "50%      3522.240696                      329.052014  3.971007e+03   \n",
       "75%      9001.706545                      765.715734  8.725784e+03   \n",
       "max    879685.091457                    73979.088458  2.279306e+06   \n",
       "\n",
       "           ...       Yield.10.Yr.Vol.63  Yield.20.Yr.Vol.21  \\\n",
       "count      ...             35064.000000        35064.000000   \n",
       "mean       ...                 0.165653            0.091606   \n",
       "std        ...                 0.088155            0.055520   \n",
       "min        ...                 0.048840            0.030150   \n",
       "25%        ...                 0.103352            0.063520   \n",
       "50%        ...                 0.137183            0.080838   \n",
       "75%        ...                 0.203721            0.101644   \n",
       "max        ...                 0.671005            0.585437   \n",
       "\n",
       "       Yield.20.Yr.Vol.63  Yield.30.Yr.Vol.21  Yield.30.Yr.Vol.63  \\\n",
       "count        35064.000000        29020.000000        29282.000000   \n",
       "mean             0.154919            0.087695            0.148144   \n",
       "std              0.080396            0.061409            0.085300   \n",
       "min              0.061374            0.027001            0.034493   \n",
       "25%              0.103344            0.059825            0.095271   \n",
       "50%              0.134954            0.075141            0.125602   \n",
       "75%              0.180300            0.096380            0.169973   \n",
       "max              0.627464            0.644613            0.636794   \n",
       "\n",
       "              Total           OAS  Shiller.PE.Ratio     VIX.Value  \\\n",
       "count  35064.000000  34999.000000      35064.000000  35064.000000   \n",
       "mean     153.386671    138.259805         26.363448     19.832317   \n",
       "std       65.231383    103.342547          6.091675      8.051695   \n",
       "min       76.832150  -1503.125000         13.320000      9.510000   \n",
       "25%      112.972668     84.694456         22.600000     13.840000   \n",
       "50%      136.313962    114.509722         25.690000     17.750000   \n",
       "75%      173.348797    159.228902         27.550000     24.059999   \n",
       "max      546.125830   2459.297562         44.190000     59.889999   \n",
       "\n",
       "            VIX.VXV  \n",
       "count  29816.000000  \n",
       "mean       0.937338  \n",
       "std        0.196559  \n",
       "min        0.599930  \n",
       "25%        0.823625  \n",
       "50%        0.900752  \n",
       "75%        1.017011  \n",
       "max        1.915768  \n",
       "\n",
       "[8 rows x 77 columns]"
      ]
     },
     "execution_count": 8,
     "metadata": {},
     "output_type": "execute_result"
    }
   ],
   "source": [
    "df.describe()"
   ]
  },
  {
   "cell_type": "markdown",
   "metadata": {},
   "source": [
    "### Range of values for OAS is from -1500 to 2500"
   ]
  },
  {
   "cell_type": "code",
   "execution_count": 41,
   "metadata": {},
   "outputs": [
    {
     "data": {
      "text/plain": [
       "count    34999.000000\n",
       "mean       138.259805\n",
       "std        103.342547\n",
       "min      -1503.125000\n",
       "25%         84.694456\n",
       "50%        114.509722\n",
       "75%        159.228902\n",
       "max       2459.297562\n",
       "Name: OAS, dtype: float64"
      ]
     },
     "execution_count": 41,
     "metadata": {},
     "output_type": "execute_result"
    }
   ],
   "source": [
    "df.OAS.describe()"
   ]
  },
  {
   "cell_type": "code",
   "execution_count": 10,
   "metadata": {},
   "outputs": [],
   "source": [
    "df['Date'] = pd.to_datetime(df['Date'])"
   ]
  },
  {
   "cell_type": "markdown",
   "metadata": {},
   "source": [
    "### Time range for the dataset is between July 1st, 1998 and December 1st, 2017"
   ]
  },
  {
   "cell_type": "code",
   "execution_count": 24,
   "metadata": {},
   "outputs": [
    {
     "name": "stdout",
     "output_type": "stream",
     "text": [
      "1998-07-01 00:00:00\n",
      "2017-12-01 00:00:00\n"
     ]
    }
   ],
   "source": [
    "print(df.Date.min())\n",
    "print(df.Date.max())"
   ]
  },
  {
   "cell_type": "markdown",
   "metadata": {},
   "source": [
    "### 239 different tickers range from having 234 data points to 3"
   ]
  },
  {
   "cell_type": "code",
   "execution_count": 18,
   "metadata": {},
   "outputs": [
    {
     "data": {
      "text/plain": [
       "HON    234\n",
       "NSC    234\n",
       "IR     234\n",
       "UNP    234\n",
       "DVN    234\n",
       "Name: Ticker, dtype: int64"
      ]
     },
     "execution_count": 18,
     "metadata": {},
     "output_type": "execute_result"
    }
   ],
   "source": [
    "df.Ticker.value_counts().head()"
   ]
  },
  {
   "cell_type": "markdown",
   "metadata": {},
   "source": [
    "### A couple of fields have ~5 % of data missing...need to determine whether these columns are important or not...if important, how to impute missing values\n",
    "- Gross Margin\n",
    "- Thirty Year Yield\n",
    "- Yield.1.Mo.Vol.21\n",
    "- Yield.1.Mo.Vol.63\n",
    "- Yield.30.Yr.Vol.21\n",
    "- Yield.30.Yr.Vol.63"
   ]
  },
  {
   "cell_type": "code",
   "execution_count": 26,
   "metadata": {},
   "outputs": [
    {
     "data": {
      "text/plain": [
       "Date                      0\n",
       "Ticker                    0\n",
       "Sector                    0\n",
       "Industry                  0\n",
       "Cash From Operations    648\n",
       "dtype: int64"
      ]
     },
     "execution_count": 26,
     "metadata": {},
     "output_type": "execute_result"
    }
   ],
   "source": [
    "df.isna().sum().head()"
   ]
  },
  {
   "cell_type": "markdown",
   "metadata": {},
   "source": [
    "### Dataset contains 9 different sectors, consumer is split between cyclical and non-cyclical; 46 different industries"
   ]
  },
  {
   "cell_type": "code",
   "execution_count": 29,
   "metadata": {},
   "outputs": [
    {
     "data": {
      "text/plain": [
       "Consumer, Non-cyclical    9645\n",
       "Industrial                6948\n",
       "Consumer, Cyclical        3846\n",
       "Energy                    3750\n",
       "Utilities                 3102\n",
       "Communications            2763\n",
       "Basic Materials           2121\n",
       "Technology                2070\n",
       "Financial                  819\n",
       "Name: Sector, dtype: int64"
      ]
     },
     "execution_count": 29,
     "metadata": {},
     "output_type": "execute_result"
    }
   ],
   "source": [
    "df['Sector'].value_counts()"
   ]
  },
  {
   "cell_type": "code",
   "execution_count": 34,
   "metadata": {},
   "outputs": [
    {
     "data": {
      "text/plain": [
       "46"
      ]
     },
     "execution_count": 34,
     "metadata": {},
     "output_type": "execute_result"
    }
   ],
   "source": [
    "len(df['Industry'].value_counts())"
   ]
  },
  {
   "cell_type": "code",
   "execution_count": 38,
   "metadata": {},
   "outputs": [],
   "source": [
    "df_sector = df.groupby(by = 'Sector').mean()"
   ]
  },
  {
   "cell_type": "code",
   "execution_count": 44,
   "metadata": {},
   "outputs": [
    {
     "data": {
      "text/plain": [
       "Sector\n",
       "Consumer, Non-cyclical    117.213039\n",
       "Technology                117.278415\n",
       "Industrial                134.695507\n",
       "Utilities                 142.198179\n",
       "Consumer, Cyclical        145.788002\n",
       "Basic Materials           157.790234\n",
       "Energy                    161.314710\n",
       "Communications            162.721257\n",
       "Financial                 181.421235\n",
       "Name: OAS, dtype: float64"
      ]
     },
     "execution_count": 44,
     "metadata": {},
     "output_type": "execute_result"
    }
   ],
   "source": [
    "df_sector.OAS.sort_values()"
   ]
  },
  {
   "cell_type": "code",
   "execution_count": 48,
   "metadata": {},
   "outputs": [
    {
     "name": "stderr",
     "output_type": "stream",
     "text": [
      "/Users/veronicahsieh/miniconda3/lib/python3.6/site-packages/seaborn/timeseries.py:183: UserWarning: The tsplot function is deprecated and will be removed or replaced (in a substantially altered version) in a future release.\n",
      "  warnings.warn(msg, UserWarning)\n"
     ]
    },
    {
     "data": {
      "text/plain": [
       "<matplotlib.axes._subplots.AxesSubplot at 0x1a1f0c7518>"
      ]
     },
     "execution_count": 48,
     "metadata": {},
     "output_type": "execute_result"
    },
    {
     "data": {
      "image/png": "[encoded data removed]",
      "text/plain": [
       "<Figure size 432x288 with 1 Axes>"
      ]
     },
     "metadata": {},
     "output_type": "display_data"
    }
   ],
   "source": [
    "sns.tsplot(df.OAS, color=\"indianred\")"
   ]
  },
  {
   "cell_type": "code",
   "execution_count": 36,
   "metadata": {},
   "outputs": [
    {
     "data": {
      "text/plain": [
       "count    35064.000000\n",
       "mean        85.718064\n",
       "std         12.527425\n",
       "min         55.300000\n",
       "25%         76.200000\n",
       "50%         87.700000\n",
       "75%         94.400000\n",
       "max        112.000000\n",
       "Name: Consumer.Sentiment, dtype: float64"
      ]
     },
     "execution_count": 36,
     "metadata": {},
     "output_type": "execute_result"
    }
   ],
   "source": [
    "df['Consumer.Sentiment'].describe()"
   ]
  },
  {
   "cell_type": "code",
   "execution_count": 37,
   "metadata": {
    "scrolled": true
   },
   "outputs": [
    {
     "data": {
      "text/plain": [
       "count    35064.000000\n",
       "mean        98.579249\n",
       "std          5.136947\n",
       "min         86.841400\n",
       "25%         94.171700\n",
       "50%         99.903600\n",
       "75%        102.836100\n",
       "max        106.663000\n",
       "Name: Industrial.Production, dtype: float64"
      ]
     },
     "execution_count": 37,
     "metadata": {},
     "output_type": "execute_result"
    }
   ],
   "source": [
    "df['Industrial.Production'].describe()"
   ]
  },
  {
   "cell_type": "code",
   "execution_count": null,
   "metadata": {},
   "outputs": [],
   "source": []
  }
 ],
 "metadata": {
  "kernelspec": {
   "display_name": "Python 3",
   "language": "python",
   "name": "python3"
  },
  "language_info": {
   "codemirror_mode": {
    "name": "ipython",
    "version": 3
   },
   "file_extension": ".py",
   "mimetype": "text/x-python",
   "name": "python",
   "nbconvert_exporter": "python",
   "pygments_lexer": "ipython3",
   "version": "3.6.3"
  }
 },
 "nbformat": 4,
 "nbformat_minor": 2
}
